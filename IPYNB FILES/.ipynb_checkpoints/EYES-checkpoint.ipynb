{
 "cells": [
  {
   "cell_type": "code",
   "execution_count": 1,
   "id": "855ade64",
   "metadata": {},
   "outputs": [],
   "source": [
    "import cv2 as cv\n",
    "import numpy as np\n",
    "faceCascade= cv.CascadeClassifier(r\"C:\\Users\\dell\\Desktop\\MYFILES\\FACE_DETECTION\\XML FILES\\haarcascade_frontalface_alt.xml\")\n",
    "eyeCascade= cv.CascadeClassifier(r\"C:\\Users\\dell\\Desktop\\MYFILES\\FACE_DETECTION\\XML FILES\\haarcascade_eye.xml\")\n",
    "cap = cv.VideoCapture(0)\n",
    "cap.set(3,640) # set Width\n",
    "cap.set(4,480) # set Height\n",
    "\n",
    "\n",
    "while True:\n",
    "    ret,img=cap.read()\n",
    "    gray= cv.cvtColor(img,cv.COLOR_BGR2GRAY)\n",
    "    faces=faceCascade.detectMultiScale(gray,1.3,5,minSize=(30,30))\n",
    "    # For face\n",
    "    for (x,y,w,h) in faces:\n",
    "        cv.rectangle(img,(x,y),(x+h,y+h),(255,0,0),2)\n",
    "        roi_gray=gray[y:y+h,x:x+w]\n",
    "        roi_color=img[y:y+h,x:x+w]\n",
    "        eyes= eyeCascade.detectMultiScale(roi_gray,1.5,10,minSize=(5,5))\n",
    "        #for eyes\n",
    "        for (ex,ey,ew,eh) in eyes:\n",
    "            cv.rectangle(roi_color,(ex, ey), (ex + ew, ey + eh),(0,255,0),2)\n",
    "        cv.imshow(\"Video\",img)\n",
    "    k=cv.waitKey(30) & 0xff\n",
    "    if(k==27):\n",
    "        break\n",
    "cap.release()\n",
    "cv.destroyAllWindows()"
   ]
  },
  {
   "cell_type": "code",
   "execution_count": null,
   "id": "90cf31dd",
   "metadata": {},
   "outputs": [],
   "source": []
  }
 ],
 "metadata": {
  "kernelspec": {
   "display_name": "Python 3 (ipykernel)",
   "language": "python",
   "name": "python3"
  },
  "language_info": {
   "codemirror_mode": {
    "name": "ipython",
    "version": 3
   },
   "file_extension": ".py",
   "mimetype": "text/x-python",
   "name": "python",
   "nbconvert_exporter": "python",
   "pygments_lexer": "ipython3",
   "version": "3.8.13"
  }
 },
 "nbformat": 4,
 "nbformat_minor": 5
}
