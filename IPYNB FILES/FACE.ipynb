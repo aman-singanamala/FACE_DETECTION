{
 "cells": [
  {
   "cell_type": "code",
   "execution_count": 1,
   "id": "ae2893b4",
   "metadata": {},
   "outputs": [],
   "source": [
    "import numpy as np\n",
    "import cv2 as cv\n",
    "faceCascade= cv.CascadeClassifier(r\"C:\\Users\\dell\\Desktop\\MYFILES\\FACE_DETECTION\\XML FILES\\haarcascade_frontalface_alt.xml\")\n",
    "cap=cv.VideoCapture(0)\n",
    "cap.set(3,640)\n",
    "cap.set(4,480)\n",
    "while True:\n",
    "    ret,img= cap.read()\n",
    "    gray = cv.cvtColor(img,cv.COLOR_BGR2GRAY)\n",
    "    faces= faceCascade.detectMultiScale(gray , 1.2,5,minSize=(20,20))\n",
    "    for (x,y,w,h) in faces:\n",
    "        cv.rectangle(img,(x,y),(x+w,y+h),(255,0,0),2)\n",
    "        roi_gray= gray[y:y+h,x:x+w]\n",
    "        roi_color=img[y:y+h,x:x+w]\n",
    "        cv.imshow(\"Video\",img)\n",
    "    k=cv.waitKey(30) & 0xff\n",
    "    if k==27:\n",
    "        break\n",
    "cap.release()\n",
    "cv.destroyAllWindows()\n",
    "\n",
    "                                  \n",
    "                                   \n",
    "                                   \n",
    "                                   \n",
    "\n",
    "                                   \n",
    "                                   \n",
    "    \n",
    "    "
   ]
  },
  {
   "cell_type": "code",
   "execution_count": null,
   "id": "7d0cd59f",
   "metadata": {},
   "outputs": [],
   "source": []
  }
 ],
 "metadata": {
  "kernelspec": {
   "display_name": "Python 3 (ipykernel)",
   "language": "python",
   "name": "python3"
  },
  "language_info": {
   "codemirror_mode": {
    "name": "ipython",
    "version": 3
   },
   "file_extension": ".py",
   "mimetype": "text/x-python",
   "name": "python",
   "nbconvert_exporter": "python",
   "pygments_lexer": "ipython3",
   "version": "3.8.13"
  }
 },
 "nbformat": 4,
 "nbformat_minor": 5
}
