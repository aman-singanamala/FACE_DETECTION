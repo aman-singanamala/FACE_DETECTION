{
 "cells": [
  {
   "cell_type": "code",
   "execution_count": 1,
   "id": "eada325c",
   "metadata": {},
   "outputs": [],
   "source": [
    "import cv2 as cv\n",
    "import numpy as np\n",
    "faceCascade= cv.CascadeClassifier('haarcascade_frontalface_alt.xml')\n",
    "smileCascade=cv.CascadeClassifier('haarcascade_smile.xml')\n",
    "cap=cv.VideoCapture(0)\n",
    "cap.set(3,640)\n",
    "cap.set(4,480)\n",
    "while True:\n",
    "    ret, img = cap.read()\n",
    "    gray=cv.cvtColor(img,cv.COLOR_BGR2GRAY)\n",
    "    faces=faceCascade.detectMultiScale(gray,1.3,5,minSize=(30,30))\n",
    "    for (x,y,w,h) in faces:\n",
    "        cv.rectangle(img,(x,y),(x+w,y+h),(0,255,0),2)\n",
    "        roi_gray=gray[y:y+h,x:x+w]\n",
    "        roi_color=img[y:y+h,x:x+w]\n",
    "        smile=smileCascade.detectMultiScale(roi_gray,1.5,15,minSize=(25,25))\n",
    "        for(xx,yy,ww,hh) in smile:\n",
    "            cv.rectangle(roi_color,(xx,yy),(xx+ww,yy++hh),(255,0,0),2)\n",
    "        cv.imshow(\"Video\",img)\n",
    "    k=cv.waitKey(30) & 0xff\n",
    "    if(k==27):\n",
    "        break\n",
    "cap.release()\n",
    "cv.destroyAllWindows()"
   ]
  },
  {
   "cell_type": "code",
   "execution_count": null,
   "id": "c6d5ab90",
   "metadata": {},
   "outputs": [],
   "source": []
  }
 ],
 "metadata": {
  "kernelspec": {
   "display_name": "Python 3 (ipykernel)",
   "language": "python",
   "name": "python3"
  },
  "language_info": {
   "codemirror_mode": {
    "name": "ipython",
    "version": 3
   },
   "file_extension": ".py",
   "mimetype": "text/x-python",
   "name": "python",
   "nbconvert_exporter": "python",
   "pygments_lexer": "ipython3",
   "version": "3.8.13"
  }
 },
 "nbformat": 4,
 "nbformat_minor": 5
}
